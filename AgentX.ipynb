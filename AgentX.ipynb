{
  "nbformat": 4,
  "nbformat_minor": 0,
  "metadata": {
    "colab": {
      "provenance": [],
      "authorship_tag": "ABX9TyPAd3plH0wdBX1pTz4ai6sN",
      "include_colab_link": true
    },
    "kernelspec": {
      "name": "python3",
      "display_name": "Python 3"
    },
    "language_info": {
      "name": "python"
    }
  },
  "cells": [
    {
      "cell_type": "markdown",
      "metadata": {
        "id": "view-in-github",
        "colab_type": "text"
      },
      "source": [
        "<a href=\"https://colab.research.google.com/github/AmanaFaizal/steamnoodles-feedback-agent-amanaFaizal/blob/main/AgentX.ipynb\" target=\"_parent\"><img src=\"https://colab.research.google.com/assets/colab-badge.svg\" alt=\"Open In Colab\"/></a>"
      ]
    },
    {
      "cell_type": "code",
      "execution_count": null,
      "metadata": {
        "collapsed": true,
        "id": "E0dPqiBld0qK"
      },
      "outputs": [],
      "source": [
        "!pip install -U openai langchain langchain-core langchain-community langchain-groq\n",
        "!pip install pandas matplotlib seaborn python-dotenv dateparser\n"
      ]
    },
    {
      "cell_type": "code",
      "source": [
        "import pandas as pd\n",
        "import re\n",
        "import os\n",
        "from datetime import datetime, timedelta\n",
        "import matplotlib.pyplot as plt\n",
        "from langchain.tools import Tool\n",
        "from dotenv import load_dotenv\n",
        "from langchain.agents import initialize_agent, AgentType\n",
        "from langchain_groq import ChatGroq"
      ],
      "metadata": {
        "id": "o33YrmGBd7Vj"
      },
      "execution_count": 2,
      "outputs": []
    },
    {
      "cell_type": "code",
      "source": [
        "load_dotenv()\n",
        "os.environ[\"GROQ_API_KEY\"] = \"put_the_api_key_here\""
      ],
      "metadata": {
        "id": "RIu9W9Icd7UM"
      },
      "execution_count": 3,
      "outputs": []
    },
    {
      "cell_type": "code",
      "source": [
        "llm = ChatGroq(model=\"llama3-70b-8192\", temperature=0.7)"
      ],
      "metadata": {
        "id": "t2WxaPLGgZb7"
      },
      "execution_count": 4,
      "outputs": []
    },
    {
      "cell_type": "code",
      "source": [
        "CSV_PATH = \"/content/drive/MyDrive/SteamNoodles/data/reviews.csv\"\n",
        "os.makedirs(os.path.dirname(CSV_PATH), exist_ok=True)"
      ],
      "metadata": {
        "id": "gIvZQIvnAxVv"
      },
      "execution_count": 5,
      "outputs": []
    },
    {
      "cell_type": "code",
      "source": [
        "if not os.path.exists(CSV_PATH):\n",
        "    df = pd.DataFrame(columns=[\"date\", \"review\", \"sentiment\"])\n",
        "    df.to_csv(CSV_PATH, index=False)"
      ],
      "metadata": {
        "id": "4XdYJupsBHRi"
      },
      "execution_count": 6,
      "outputs": []
    },
    {
      "cell_type": "code",
      "source": [
        "sample_data = [\n",
        "              {\"date\": \"2025-07-25 10:15:00\", \"review\": \"The noodles were absolutely delicious!\", \"sentiment\": \"Positive\"},\n",
        "              {\"date\": \"2025-07-29 14:45:00\", \"review\": \"The service was quite slow today.\", \"sentiment\": \"Negative\"},\n",
        "              {\"date\": \"2025-08-29 18:30:00\", \"review\": \"The ambiance was nice but the food was average.\", \"sentiment\": \"Neutral\"},\n",
        "              {\"date\": \"2025-08-29 12:10:00\", \"review\": \"Absolutely loved the dumplings and the service!\", \"sentiment\": \"Positive\"},\n",
        "              {\"date\": \"2025-08-30 19:10:00\", \"review\": \"Reasonable prices for the quality offered.\", \"sentiment\": \"Neutral\"},\n",
        "              {\"date\": \"2025-08-02 09:50:00\", \"review\": \"Highly recommended.\", \"sentiment\": \"Positive\"},\n",
        "              {\"date\": \"2025-08-02 10:30:00\", \"review\": \"Would not go back.\", \"sentiment\": \"Negative\"},\n",
        "              {\"date\": \"2025-08-02 11:45:00\", \"review\": \"I was disgusted because I was pretty sure that was human hair.\", \"sentiment\": \"Negative\"},\n",
        "              {\"date\": \"2025-08-02 13:37:11\", \"review\": \"Ample portions and good prices.\", \"sentiment\": \"Positive\"},\n",
        "              {\"date\": \"2025-08-02 14:20:00\", \"review\": \"The menu had typical options; nothing unique.\", \"sentiment\": \"Neutral\"},\n",
        "              {\"date\": \"2025-08-02 15:25:00\", \"review\": \"The cocktails are all handmade and delicious.\", \"sentiment\": \"Positive\"},\n",
        "              {\"date\": \"2025-08-02 16:30:00\", \"review\": \"Omelets are to die for!\", \"sentiment\": \"Positive\"},\n",
        "              {\"date\": \"2025-08-02 20:45:00\", \"review\": \"Everything was fresh and delicious!\", \"sentiment\": \"Positive\"},\n",
        "              {\"date\": \"2025-08-03 10:37:12\", \"review\": \"Will go back next trip out.\", \"sentiment\": \"Positive\"},\n",
        "              {\"date\": \"2025-08-03 11:50:00\", \"review\": \"Nice, spicy and tender.\", \"sentiment\": \"Positive\"},\n",
        "              {\"date\": \"2025-08-03 13:30:00\", \"review\": \"The management is rude.\", \"sentiment\": \"Negative\"},\n",
        "              {\"date\": \"2025-08-03 20:05:00\", \"review\": \"Always a great time at SteamNoodes!\", \"sentiment\": \"Positive\"},\n",
        "              {\"date\": \"2025-08-04 08:15:00\", \"review\": \"The service was meh.\", \"sentiment\": \"Negative\"},\n",
        "              {\"date\": \"2025-08-04 11:05:00\", \"review\": \"We'll never go again.\", \"sentiment\": \"Negative\"},\n",
        "              {\"date\": \"2025-08-04 19:30:00\", \"review\": \"We are so glad we found this place.\", \"sentiment\": \"Positive\"},\n",
        "              {\"date\": \"2025-08-04 12:25:00\", \"review\": \"The ramen broth was rich and flavorful.\", \"sentiment\": \"Positive\"},\n",
        "              {\"date\": \"2025-08-05 20:05:00\", \"review\": \"The soup was too salty for my taste.\", \"sentiment\": \"Negative\"},\n",
        "              {\"date\": \"2025-08-06 18:15:00\", \"review\": \"The music was too loud, hard to have a conversation.\", \"sentiment\": \"Negative\"},\n",
        "              {\"date\": \"2025-08-06 09:30:00\", \"review\": \"Great portion sizes and very fresh ingredients.\", \"sentiment\": \"Positive\"},\n",
        "              {\"date\": \"2025-08-06 14:20:00\", \"review\": \"Food was okay, but nothing special.\", \"sentiment\": \"Neutral\"},\n",
        "              {\"date\": \"2025-08-06 20:45:00\", \"review\": \"The dessert menu was fantastic!\", \"sentiment\": \"Positive\"},\n",
        "              {\"date\": \"2025-08-08 11:05:00\", \"review\": \"Waited over 30 minutes for my order.\", \"sentiment\": \"Negative\"},\n",
        "              {\"date\": \"2025-08-08 15:37:12\", \"review\": \"I could care less... The interior is just beautiful.\", \"sentiment\": \"Positive\"},\n",
        "              {\"date\": \"2025-08-08 19:50:00\", \"review\": \"Staff was polite and welcoming.\", \"sentiment\": \"Positive\"},\n",
        "              {\"date\": \"2025-08-09 13:30:00\", \"review\": \"The table was not clean when we arrived.\", \"sentiment\": \"Negative\"},\n",
        "              {\"date\": \"2025-08-10 17:45:00\", \"review\": \"Overcooked vegetables in my dish.\", \"sentiment\": \"Negative\"},\n",
        "              {\"date\": \"2025-08-15 17:24:47\", \"review\": \"The service was very slow yesterday.\", \"sentiment\": \"Negative\"},\n",
        "              {\"date\": \"2025-08-15 17:24:48\", \"review\": \"The foods are mouth watering.\", \"sentiment\": \"Positive\"}\n",
        "        ]\n",
        "\n",
        "pd.DataFrame(sample_data).to_csv(CSV_PATH, index=False)\n",
        "print(\"✅ Extended sample data added to CSV for testing.\")"
      ],
      "metadata": {
        "colab": {
          "base_uri": "https://localhost:8080/"
        },
        "id": "aBinQ5HXBHK_",
        "outputId": "15f12c94-6143-4fe5-e6c6-57e17b919b33"
      },
      "execution_count": 7,
      "outputs": [
        {
          "output_type": "stream",
          "name": "stdout",
          "text": [
            "✅ Extended sample data added to CSV for testing.\n"
          ]
        }
      ]
    },
    {
      "cell_type": "code",
      "source": [
        "def detect_sentiment(feedback: str) -> str:\n",
        "    \"\"\"Classify sentiment as Positive, Negative, or Neutral.\"\"\"\n",
        "    prompt = f\"Classify the sentiment of the following feedback as Positive, Negative, or Neutral ONLY. No extra words:\\n\\n{feedback}\"\n",
        "    response = llm.invoke(prompt)\n",
        "    sentiment = response.content.strip()\n",
        "\n",
        "    # Ensure only one of the three valid values\n",
        "    if \"positive\" in sentiment.lower():\n",
        "        return \"Positive\"\n",
        "    elif \"negative\" in sentiment.lower():\n",
        "        return \"Negative\"\n",
        "    elif \"neutral\" in sentiment.lower():\n",
        "        return \"Neutral\"\n",
        "    else:\n",
        "        return \"Neutral\"  # Default if unclear\n"
      ],
      "metadata": {
        "id": "XTDgp2PGBHDr"
      },
      "execution_count": 8,
      "outputs": []
    },
    {
      "cell_type": "code",
      "source": [
        "\n",
        "def append_to_csv(review: str, sentiment: str, date: str = None):\n",
        "    \"\"\"Append review data to CSV.\"\"\"\n",
        "    if date is None:\n",
        "        date = datetime.now().strftime(\"%Y-%m-%d %H:%M:%S\")\n",
        "    new_row = pd.DataFrame([{\n",
        "        \"date\": date,\n",
        "        \"review\": review,\n",
        "        \"sentiment\": sentiment\n",
        "    }])\n",
        "    if os.path.exists(CSV_PATH):\n",
        "        new_row.to_csv(CSV_PATH, mode='a', header=False, index=False)\n",
        "    else:\n",
        "        new_row.to_csv(CSV_PATH, mode='w', header=True, index=False)\n"
      ],
      "metadata": {
        "id": "1usqauZWB8-O"
      },
      "execution_count": 9,
      "outputs": []
    },
    {
      "cell_type": "code",
      "source": [
        "def generate_reply(feedback: str) -> str:\n",
        "    \"\"\"Generate polite reply and store in CSV.\"\"\"\n",
        "    sentiment = detect_sentiment(feedback)\n",
        "    prompt = (\n",
        "        f\"A customer left this {sentiment} feedback:\\n'{feedback}'\\n\"\n",
        "        f\"Write a short, polite, and professional response.\"\n",
        "    )\n",
        "    response = llm.invoke(prompt)\n",
        "    reply = response.content.strip()\n",
        "    append_to_csv(feedback,sentiment)\n",
        "    return reply"
      ],
      "metadata": {
        "id": "lxQjhMm_BG43"
      },
      "execution_count": 10,
      "outputs": []
    },
    {
      "cell_type": "code",
      "source": [
        "import dateparser\n",
        "from datetime import datetime, timedelta\n",
        "\n",
        "def parse_date_range(date_range_str: str):\n",
        "    \"\"\"Parse a flexible date range string into (start_date, end_date) datetime objects.\n",
        "\n",
        "    Supports formats:\n",
        "    - \"YYYY-MM-DD,YYYY-MM-DD\"\n",
        "    - \"YYYY-MM-DD to YYYY-MM-DD\"\n",
        "    - \"last 7 days\" or \"last seven days\"\n",
        "    - \"August 1 to August 7\" (assumes current year if year missing)\n",
        "    - Single dates like \"2025-08-01\", \"yesterday\", \"3 days ago\"\n",
        "    \"\"\"\n",
        "    date_range_str = date_range_str.strip().lower()\n",
        "\n",
        "    settings = {\n",
        "        'PREFER_DATES_FROM': 'past',   # Prefer past dates for ambiguous ones\n",
        "        'RELATIVE_BASE': datetime.now()  # Base for relative dates like \"3 days ago\"\n",
        "    }\n",
        "\n",
        "    # Handle \"today\"\n",
        "    if date_range_str == \"today\":\n",
        "        today = datetime.now()\n",
        "        start = today.replace(hour=0, minute=0, second=0, microsecond=0)\n",
        "        end = today.replace(hour=23, minute=59, second=59, microsecond=999999)\n",
        "        return start, end\n",
        "\n",
        "    # Handle \"yesterday\"\n",
        "    if date_range_str == \"yesterday\":\n",
        "        yesterday = datetime.now() - timedelta(days=1)\n",
        "        start = yesterday.replace(hour=0, minute=0, second=0, microsecond=0)\n",
        "        end = yesterday.replace(hour=23, minute=59, second=59, microsecond=999999)\n",
        "        return start, end\n",
        "\n",
        "    # 1. Handle comma-separated ranges: \"YYYY-MM-DD,YYYY-MM-DD\"\n",
        "    if \",\" in date_range_str:\n",
        "        parts = date_range_str.split(\",\")\n",
        "        if len(parts) == 2:\n",
        "            start = dateparser.parse(parts[0].strip(), settings=settings)\n",
        "            end = dateparser.parse(parts[1].strip(), settings=settings)\n",
        "            if start and end:\n",
        "                return start, end\n",
        "\n",
        "    # 2. Handle \"to\" separated ranges: \"YYYY-MM-DD to YYYY-MM-DD\" or \"August 1 to August 7\"\n",
        "    if \" to \" in date_range_str:\n",
        "        parts = date_range_str.split(\" to \")\n",
        "        if len(parts) == 2:\n",
        "            start = dateparser.parse(parts[0].strip(), settings=settings)\n",
        "            end = dateparser.parse(parts[1].strip(), settings=settings)\n",
        "            if start and end:\n",
        "                # If year missing, dateparser sets year to 1900, fix to current year\n",
        "                now = datetime.now()\n",
        "                if start.year < 2000:\n",
        "                    start = start.replace(year=now.year)\n",
        "                if end.year < 2000:\n",
        "                    end = end.replace(year=now.year)\n",
        "                return start, end\n",
        "\n",
        "    # 3. Handle \"last N days\" or \"last seven days\"\n",
        "    if date_range_str.startswith(\"last\"):\n",
        "        import re\n",
        "        match = re.search(r\"last (\\d+|[a-z]+) days\", date_range_str)\n",
        "        if match:\n",
        "            num_days_str = match.group(1)\n",
        "            # Convert word numbers to int if necessary\n",
        "            word_to_num = {\n",
        "                \"one\": 1, \"two\": 2, \"three\": 3, \"four\": 4,\n",
        "                \"five\": 5, \"six\": 6, \"seven\": 7, \"eight\": 8,\n",
        "                \"nine\": 9, \"ten\": 10\n",
        "            }\n",
        "            if num_days_str.isdigit():\n",
        "                num_days = int(num_days_str)\n",
        "            else:\n",
        "                num_days = word_to_num.get(num_days_str, None)\n",
        "            if num_days is not None:\n",
        "                end = datetime.now()\n",
        "                start = end - timedelta(days=num_days)\n",
        "                return start, end\n",
        "\n",
        "    # 4. Try parsing as a single date or relative date\n",
        "    single_date = dateparser.parse(date_range_str, settings=settings)\n",
        "    if single_date:\n",
        "        return single_date, single_date\n",
        "\n",
        "    # If all fails\n",
        "    return None, None\n"
      ],
      "metadata": {
        "id": "NCYFEcLbP5gf"
      },
      "execution_count": 11,
      "outputs": []
    },
    {
      "cell_type": "code",
      "source": [
        "class SentimentPlotter:\n",
        "    def __init__(self):\n",
        "        self.plot_counter = 1\n",
        "\n",
        "    def safe_parse_date_range(self, date_range_str: str):\n",
        "        try:\n",
        "            start_date, end_date = parse_date_range(date_range_str)\n",
        "            if not start_date or not end_date:\n",
        "                raise ValueError(\"Could not parse dates\")\n",
        "            return start_date, end_date\n",
        "        except Exception:\n",
        "            return None, None\n",
        "\n",
        "    def __call__(self, date_range_str: str):\n",
        "        start, end = self.safe_parse_date_range(date_range_str)\n",
        "        if not start or not end:\n",
        "            return (\" Sorry, I couldn’t understand that date range.\\n\"\n",
        "                    \"Try formats like:\\n\"\n",
        "                    \"- 'last 7 days'\\n\"\n",
        "                    \"- '2025-08-01 to 2025-08-10'\\n\"\n",
        "                    \"- '2025-08-01 , 2025-08-10'\\n\"\n",
        "                    \"- 'August 1 to August 7'\")\n",
        "        return self.plot_sentiment(start, end)\n",
        "\n",
        "    def plot_sentiment(self, start_date: datetime, end_date: datetime):\n",
        "        if not os.path.exists(CSV_PATH):\n",
        "            return \"No data found to plot. Please add some reviews first.\"\n",
        "        df = pd.read_csv(CSV_PATH, parse_dates=[\"date\"])\n",
        "        df = df[(df[\"date\"] >= start_date) & (df[\"date\"] <= end_date)]\n",
        "        if df.empty:\n",
        "            return \"No reviews found for the selected date range.\"\n",
        "\n",
        "        full_dates = pd.date_range(start=start_date, end=end_date, freq=\"D\")\n",
        "        # Prepare counts with all dates\n",
        "        counts = df.groupby([df[\"date\"].dt.date, \"sentiment\"]).size().unstack(fill_value=0)\n",
        "        # Add missing dates with zeros\n",
        "        counts = counts.reindex(full_dates.date, fill_value=0)\n",
        "        counts.plot(kind=\"bar\", figsize=(8, 5))\n",
        "        plt.title(\"Sentiment Trends\")\n",
        "        plt.xlabel(\"Date\")\n",
        "        plt.ylabel(\"Number of Reviews\")\n",
        "        plt.tight_layout()\n",
        "        filename = f\"sentimentplot{self.plot_counter}.png\"\n",
        "        self.plot_counter += 1\n",
        "        return \"sentimentplot{self.plot_counter}.png\"\n",
        "\n",
        "plotter = SentimentPlotter()"
      ],
      "metadata": {
        "id": "7YHvuD0WQDEr"
      },
      "execution_count": 12,
      "outputs": []
    },
    {
      "cell_type": "code",
      "source": [
        "sentiment_tool = Tool(\n",
        "    name=\"SentimentDetector\",\n",
        "    func=detect_sentiment,\n",
        "    description=\"Detect sentiment from customer feedback text.\"\n",
        ")"
      ],
      "metadata": {
        "id": "slFuXd2yBGur"
      },
      "execution_count": 13,
      "outputs": []
    },
    {
      "cell_type": "code",
      "source": [
        "reply_tool = Tool(\n",
        "    name=\"ReplyGenerator\",\n",
        "    func=generate_reply,\n",
        "    description=\"Generate polite, professional reply to customer feedback.\"\n",
        ")"
      ],
      "metadata": {
        "id": "5v73t-vbBGn-"
      },
      "execution_count": 14,
      "outputs": []
    },
    {
      "cell_type": "code",
      "source": [
        "plot_tool = Tool(\n",
        "    name=\"SentimentPlotter\",\n",
        "    func=plotter,\n",
        "    description=\"Generate a sentiment trend plot for a given date range.\"\n",
        ")"
      ],
      "metadata": {
        "id": "ep4iSgyMB3sq"
      },
      "execution_count": 15,
      "outputs": []
    },
    {
      "cell_type": "code",
      "source": [
        "agent = initialize_agent(\n",
        "    tools=[sentiment_tool, reply_tool, plot_tool],\n",
        "    llm=llm,\n",
        "    agent=AgentType.ZERO_SHOT_REACT_DESCRIPTION,\n",
        "    verbose=True\n",
        ")"
      ],
      "metadata": {
        "collapsed": true,
        "id": "1nNHJw7zB3kP",
        "colab": {
          "base_uri": "https://localhost:8080/"
        },
        "outputId": "924fcbd2-c3f3-417c-8de6-586b7c3ded67"
      },
      "execution_count": 16,
      "outputs": [
        {
          "output_type": "stream",
          "name": "stderr",
          "text": [
            "/tmp/ipython-input-2169452410.py:1: LangChainDeprecationWarning: LangChain agents will continue to be supported, but it is recommended for new use cases to be built with LangGraph. LangGraph offers a more flexible and full-featured framework for building agents, including support for tool-calling, persistence of state, and human-in-the-loop workflows. For details, refer to the `LangGraph documentation <https://langchain-ai.github.io/langgraph/>`_ as well as guides for `Migrating from AgentExecutor <https://python.langchain.com/docs/how_to/migrate_agent/>`_ and LangGraph's `Pre-built ReAct agent <https://langchain-ai.github.io/langgraph/how-tos/create-react-agent/>`_.\n",
            "  agent = initialize_agent(\n"
          ]
        }
      ]
    },
    {
      "cell_type": "code",
      "source": [
        "# Example 1: Detect sentiment\n",
        "print(agent.run(\"Detect sentiment for: The noodles were delicious and the staff was friendly.\"))\n"
      ],
      "metadata": {
        "colab": {
          "base_uri": "https://localhost:8080/"
        },
        "id": "GAea59PdB-0D",
        "outputId": "ccdbffcb-adb6-4978-e007-43c4e81a7778"
      },
      "execution_count": 17,
      "outputs": [
        {
          "output_type": "stream",
          "name": "stderr",
          "text": [
            "/tmp/ipython-input-1133796307.py:2: LangChainDeprecationWarning: The method `Chain.run` was deprecated in langchain 0.1.0 and will be removed in 1.0. Use :meth:`~invoke` instead.\n",
            "  print(agent.run(\"Detect sentiment for: The noodles were delicious and the staff was friendly.\"))\n"
          ]
        },
        {
          "output_type": "stream",
          "name": "stdout",
          "text": [
            "\n",
            "\n",
            "\u001b[1m> Entering new AgentExecutor chain...\u001b[0m\n",
            "\u001b[32;1m\u001b[1;3mThought: I need to detect the sentiment of the given customer feedback.\n",
            "\n",
            "Action: SentimentDetector\n",
            "Action Input: The noodles were delicious and the staff was friendly.\u001b[0m\n",
            "Observation: \u001b[36;1m\u001b[1;3mPositive\u001b[0m\n",
            "Thought:\u001b[32;1m\u001b[1;3mI now know the sentiment of the customer feedback.\n",
            "\n",
            "Final Answer: The sentiment of the customer feedback is Positive.\u001b[0m\n",
            "\n",
            "\u001b[1m> Finished chain.\u001b[0m\n",
            "The sentiment of the customer feedback is Positive.\n"
          ]
        }
      ]
    },
    {
      "cell_type": "code",
      "source": [
        "# Example 2: Generate reply\n",
        "print(agent.run(\"Generate a reply for feedback: The service was very slow yesterday.\"))\n"
      ],
      "metadata": {
        "colab": {
          "base_uri": "https://localhost:8080/"
        },
        "id": "keVMbRUXCCLS",
        "outputId": "4997b62f-b578-48f4-fadf-a3fb98099b31"
      },
      "execution_count": 18,
      "outputs": [
        {
          "output_type": "stream",
          "name": "stdout",
          "text": [
            "\n",
            "\n",
            "\u001b[1m> Entering new AgentExecutor chain...\u001b[0m\n",
            "\u001b[32;1m\u001b[1;3mThought: I need to generate a polite and professional reply to the customer's feedback.\n",
            "\n",
            "Action: ReplyGenerator\n",
            "Action Input: The service was very slow yesterday.\u001b[0m\n",
            "Observation: \u001b[33;1m\u001b[1;3mHere is a short, polite, and professional response:\n",
            "\n",
            "\"Dear valued customer,\n",
            "\n",
            "Thank you for taking the time to share your feedback with us. We apologize for the slow service you experienced yesterday. We understand the importance of prompt service and are truly sorry that we fell short of our standards. We will take immediate action to address this issue and ensure that our service meets your expectations in the future.\n",
            "\n",
            "Thank you for your patience and understanding. If you have any further concerns, please don't hesitate to reach out to us.\n",
            "\n",
            "Best regards, [Your Name]\"\u001b[0m\n",
            "Thought:\u001b[32;1m\u001b[1;3mI now know the final answer.\n",
            "\n",
            "Final Answer: Here is a short, polite, and professional response:\n",
            "\n",
            "\"Dear valued customer,\n",
            "\n",
            "Thank you for taking the time to share your feedback with us. We apologize for the slow service you experienced yesterday. We understand the importance of prompt service and are truly sorry that we fell short of our standards. We will take immediate action to address this issue and ensure that our service meets your expectations in the future.\n",
            "\n",
            "Thank you for your patience and understanding. If you have any further concerns, please don't hesitate to reach out to us.\n",
            "\n",
            "Best regards, [Your Name]\"\u001b[0m\n",
            "\n",
            "\u001b[1m> Finished chain.\u001b[0m\n",
            "Here is a short, polite, and professional response:\n",
            "\n",
            "\"Dear valued customer,\n",
            "\n",
            "Thank you for taking the time to share your feedback with us. We apologize for the slow service you experienced yesterday. We understand the importance of prompt service and are truly sorry that we fell short of our standards. We will take immediate action to address this issue and ensure that our service meets your expectations in the future.\n",
            "\n",
            "Thank you for your patience and understanding. If you have any further concerns, please don't hesitate to reach out to us.\n",
            "\n",
            "Best regards, [Your Name]\"\n"
          ]
        }
      ]
    },
    {
      "cell_type": "code",
      "source": [
        "# Example 2: Generate reply\n",
        "print(agent.run(\"Generate a reply for feedback: The foods are mouth watering.\"))"
      ],
      "metadata": {
        "colab": {
          "base_uri": "https://localhost:8080/"
        },
        "id": "IjtMkQ6UNVbU",
        "outputId": "31f8fa09-ce4e-4141-e975-0693241ec22b"
      },
      "execution_count": 19,
      "outputs": [
        {
          "output_type": "stream",
          "name": "stdout",
          "text": [
            "\n",
            "\n",
            "\u001b[1m> Entering new AgentExecutor chain...\u001b[0m\n",
            "\u001b[32;1m\u001b[1;3mThought: I need to generate a polite and professional reply to the customer feedback.\n",
            "\n",
            "Action: ReplyGenerator\n",
            "Action Input: \"The foods are mouth watering.\"\u001b[0m\n",
            "Observation: \u001b[33;1m\u001b[1;3mHere is a possible response:\n",
            "\n",
            "\"Thank you so much for taking the time to share your kind words about our food! We're thrilled to hear that you enjoyed your dining experience with us. We strive to serve delicious and satisfying meals, and it's great to know that we've been able to do just that for you. We appreciate your feedback and look forward to serving you again soon!\"\u001b[0m\n",
            "Thought:\u001b[32;1m\u001b[1;3mI now know the final answer\n",
            "Final Answer: \"Thank you so much for taking the time to share your kind words about our food! We're thrilled to hear that you enjoyed your dining experience with us. We strive to serve delicious and satisfying meals, and it's great to know that we've been able to do just that for you. We appreciate your feedback and look forward to serving you again soon!\"\u001b[0m\n",
            "\n",
            "\u001b[1m> Finished chain.\u001b[0m\n",
            "\"Thank you so much for taking the time to share your kind words about our food! We're thrilled to hear that you enjoyed your dining experience with us. We strive to serve delicious and satisfying meals, and it's great to know that we've been able to do just that for you. We appreciate your feedback and look forward to serving you again soon!\"\n"
          ]
        }
      ]
    },
    {
      "cell_type": "code",
      "source": [
        "# Example 3: Generate sentiment plot\n",
        "print(plotter(\"last 7 days\"))"
      ],
      "metadata": {
        "colab": {
          "base_uri": "https://localhost:8080/",
          "height": 524
        },
        "id": "U089A-Y-QXuX",
        "outputId": "32c0e7aa-d9fd-4ed7-947e-67dfa1c49b3f"
      },
      "execution_count": 20,
      "outputs": [
        {
          "output_type": "stream",
          "name": "stdout",
          "text": [
            "sentimentplot{self.plot_counter}.png\n"
          ]
        },
        {
          "output_type": "display_data",
          "data": {
            "text/plain": [
              "<Figure size 800x500 with 1 Axes>"
            ],
            "image/png": "[encoded data removed]"
          },
          "metadata": {}
        }
      ]
    },
    {
      "cell_type": "code",
      "source": [
        "print(plotter(\"2025-08-01 , 2025-08-10\"))"
      ],
      "metadata": {
        "colab": {
          "base_uri": "https://localhost:8080/",
          "height": 524
        },
        "id": "3hCVadqpBgTm",
        "outputId": "72dc1720-8876-4e78-9db4-1fda98df18d9"
      },
      "execution_count": 21,
      "outputs": [
        {
          "output_type": "stream",
          "name": "stdout",
          "text": [
            "sentimentplot{self.plot_counter}.png\n"
          ]
        },
        {
          "output_type": "display_data",
          "data": {
            "text/plain": [
              "<Figure size 800x500 with 1 Axes>"
            ],
            "image/png": "[encoded data removed]"
          },
          "metadata": {}
        }
      ]
    },
    {
      "cell_type": "code",
      "source": [
        "print(plotter(\"Yesterday\"))"
      ],
      "metadata": {
        "colab": {
          "base_uri": "https://localhost:8080/"
        },
        "id": "qVVfaYNMBgHB",
        "outputId": "fc5c7a9e-7330-4ba3-865b-fb83b5d84cb2"
      },
      "execution_count": 22,
      "outputs": [
        {
          "output_type": "stream",
          "name": "stdout",
          "text": [
            "No reviews found for the selected date range.\n"
          ]
        }
      ]
    },
    {
      "cell_type": "code",
      "source": [
        "print(plotter(\"today\"))"
      ],
      "metadata": {
        "colab": {
          "base_uri": "https://localhost:8080/",
          "height": 524
        },
        "id": "pDVmOgqUFU6z",
        "outputId": "57aab9bb-6eac-49bf-9ef0-c6a540e19cd8"
      },
      "execution_count": 23,
      "outputs": [
        {
          "output_type": "stream",
          "name": "stdout",
          "text": [
            "sentimentplot{self.plot_counter}.png\n"
          ]
        },
        {
          "output_type": "display_data",
          "data": {
            "text/plain": [
              "<Figure size 800x500 with 1 Axes>"
            ],
            "image/png": "[encoded data removed]"
          },
          "metadata": {}
        }
      ]
    }
  ]
}